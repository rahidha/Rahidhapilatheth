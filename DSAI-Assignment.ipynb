{
 "cells": [
  {
   "cell_type": "code",
   "execution_count": null,
   "metadata": {},
   "outputs": [],
   "source": [
    "# Q1:Input a string of odd length(minimum 9 charecters),print a string made of the 3 middle charecters from input string.\n",
    "    (eg:-if input is abcdefghi.answer should be def) \n",
    "                                                                                                                       "
   ]
  },
  {
   "cell_type": "code",
   "execution_count": 2,
   "metadata": {},
   "outputs": [
    {
     "name": "stdout",
     "output_type": "stream",
     "text": [
      "enter a string of odd length with minimum 9 charecter:abcdefghi\n",
      "3 middle charecters from input string: def\n"
     ]
    }
   ],
   "source": [
    "a=input(\"enter a string of odd length with minimum 9 charecter:\")\n",
    "length=len(a)\n",
    "mid=length//2\n",
    "if(length>=9 and length%2==1):\n",
    "    string=a[mid-1:mid+2:1]\n",
    "    print(\"3 middle charecters from input string:\",string)\n",
    "else:\n",
    "    print(\"condition:odd length with minimum 9 charecter\")"
   ]
  },
  {
   "cell_type": "code",
   "execution_count": null,
   "metadata": {},
   "outputs": [],
   "source": [
    "# Q2:Calculate the sum and average of first n natural numbers\n",
    "  a.using for loop\n",
    "  b.using while loop  "
   ]
  },
  {
   "cell_type": "code",
   "execution_count": 8,
   "metadata": {},
   "outputs": [
    {
     "name": "stdout",
     "output_type": "stream",
     "text": [
      "enter the number10\n",
      "the sum is 55\n",
      "average of number 5.5\n"
     ]
    }
   ],
   "source": [
    "# a.using for loop\n",
    "number=int(input(\"enter the number\"))\n",
    "if number<0:\n",
    "    print(\"enter a positive number\")\n",
    "else:\n",
    "    sum=0\n",
    "    for number in range(1,number+1):\n",
    "        sum+=number\n",
    "    print(\"the sum is\",sum)\n",
    "    print(\"average of number\",sum/number)"
   ]
  },
  {
   "cell_type": "code",
   "execution_count": 11,
   "metadata": {},
   "outputs": [
    {
     "name": "stdout",
     "output_type": "stream",
     "text": [
      "enter the number10\n",
      "the sum is 55\n",
      "average of number 5.5\n"
     ]
    }
   ],
   "source": [
    "# b.using while loop\n",
    "num=int(input(\"enter the number\"))\n",
    "number=num\n",
    "if number<0:\n",
    "    print(\"enter a positive number\")\n",
    "else:\n",
    "    sum=0\n",
    "    while(number>0):\n",
    "        sum+=number\n",
    "        number-=1\n",
    "    print(\"the sum is\",sum)\n",
    "    print(\"average of number\",sum/num)\n",
    "    "
   ]
  },
  {
   "cell_type": "code",
   "execution_count": 12,
   "metadata": {},
   "outputs": [],
   "source": [
    "# Q3 : Accept list of 5 float numbers as input from user using loop and store values in a list"
   ]
  },
  {
   "cell_type": "code",
   "execution_count": 14,
   "metadata": {},
   "outputs": [
    {
     "name": "stdout",
     "output_type": "stream",
     "text": [
      "enter list element:1.1\n",
      "enter list element:1.2\n",
      "enter list element:1.3\n",
      "enter list element:1.4\n",
      "enter list element:1.5\n",
      "[1.1, 1.2, 1.3, 1.4, 1.5]\n"
     ]
    }
   ],
   "source": [
    "list=[]\n",
    "while(len(list)<5):\n",
    "    ele=float(input(\"enter list element:\"))\n",
    "    list.append(ele)\n",
    "print(list)    "
   ]
  },
  {
   "cell_type": "code",
   "execution_count": 16,
   "metadata": {},
   "outputs": [
    {
     "ename": "SyntaxError",
     "evalue": "unmatched ')' (<ipython-input-16-e066ee3d12d5>, line 2)",
     "output_type": "error",
     "traceback": [
      "\u001b[1;36m  File \u001b[1;32m\"<ipython-input-16-e066ee3d12d5>\"\u001b[1;36m, line \u001b[1;32m2\u001b[0m\n\u001b[1;33m    a)1\u001b[0m\n\u001b[1;37m     ^\u001b[0m\n\u001b[1;31mSyntaxError\u001b[0m\u001b[1;31m:\u001b[0m unmatched ')'\n"
     ]
    }
   ],
   "source": [
    "# Q4 :Print the following pattern\n",
    "a)1\n",
    "  1 2\n",
    "  1 2 3\n",
    "  1 2 3 4\n",
    "  1 2 3 4 5\n",
    "\n",
    "b)5 4 3 2 1\n",
    "  4 3 2 1\n",
    "  3 2 1\n",
    "  2 1\n",
    "  1  "
   ]
  },
  {
   "cell_type": "code",
   "execution_count": 17,
   "metadata": {},
   "outputs": [
    {
     "name": "stdout",
     "output_type": "stream",
     "text": [
      "\r\n",
      "1 \r\n",
      "1 2 \r\n",
      "1 2 3 \r\n",
      "1 2 3 4 \r\n",
      "1 2 3 4 5 \r\n"
     ]
    }
   ],
   "source": [
    "# Q4:a\n",
    "def pattern(n):\n",
    "    for i in range(0,n):\n",
    "        num=1\n",
    "        for j in range(0,i):\n",
    "            print(num,end=\" \")\n",
    "            num+=1\n",
    "        print(\"\\r\") \n",
    "pattern(6)        "
   ]
  },
  {
   "cell_type": "code",
   "execution_count": 18,
   "metadata": {},
   "outputs": [
    {
     "name": "stdout",
     "output_type": "stream",
     "text": [
      "5 4 3 2 1 \r\n",
      "4 3 2 1 \r\n",
      "3 2 1 \r\n",
      "2 1 \r\n",
      "1 \r\n"
     ]
    }
   ],
   "source": [
    "# Q4:b\n",
    "def pattern(n):\n",
    "    for i in range(n,0,-1):\n",
    "        for j in range(0,i):\n",
    "            print(i,end=\" \")\n",
    "            i-=1\n",
    "        print(\"\\r\")\n",
    "pattern(5)            "
   ]
  },
  {
   "cell_type": "code",
   "execution_count": 19,
   "metadata": {},
   "outputs": [],
   "source": [
    "# Q5 :Input a number,count and print the total number of digits in that number using while loop"
   ]
  },
  {
   "cell_type": "code",
   "execution_count": 21,
   "metadata": {},
   "outputs": [
    {
     "name": "stdout",
     "output_type": "stream",
     "text": [
      "enter a number1234\n",
      "total number of digits in 1234 is: 4\n"
     ]
    }
   ],
   "source": [
    "num=int(input(\"enter a number\"))\n",
    "number=num\n",
    "count=0\n",
    "while(number!=0):\n",
    "    number=number//10\n",
    "    count=count+1\n",
    "print(\"total number of digits in\",num,\"is:\",count)    "
   ]
  },
  {
   "cell_type": "code",
   "execution_count": null,
   "metadata": {},
   "outputs": [],
   "source": [
    "# Q6 :Given two lists,create a third list by picking an odd-index element from tha first list and even index elements from \n",
    "  second.\n",
    "    listOne=[3,6,9,12,15,18,21]\n",
    "    listTwo=[4,8,12,16,20,24,28] "
   ]
  },
  {
   "cell_type": "code",
   "execution_count": 25,
   "metadata": {},
   "outputs": [
    {
     "name": "stdout",
     "output_type": "stream",
     "text": [
      "third list is:\n",
      "[6, 12, 18, 4, 12, 20, 28]\n"
     ]
    }
   ],
   "source": [
    "listOne=[3,6,9,12,15,18,21]\n",
    "listTwo=[4,8,12,16,20,24,28]\n",
    "list3=[]\n",
    "odd=listOne[1::2]\n",
    "even=listTwo[0::2]\n",
    "print(\"third list is:\")\n",
    "list3.extend(odd+even)\n",
    "print(list3)"
   ]
  },
  {
   "cell_type": "code",
   "execution_count": 26,
   "metadata": {},
   "outputs": [],
   "source": [
    "# Q7 :Program to get the smallest number from a list."
   ]
  },
  {
   "cell_type": "code",
   "execution_count": 31,
   "metadata": {},
   "outputs": [
    {
     "name": "stdout",
     "output_type": "stream",
     "text": [
      "enter the list size:5\n",
      "enter list element:9\n",
      "enter list element:4\n",
      "enter list element:2\n",
      "enter list element:7\n",
      "enter list element:1\n",
      "enter list element:3\n",
      "element of list [9, 4, 2, 7, 1, 3]\n",
      "smallest element is: 1\n"
     ]
    }
   ],
   "source": [
    "list=[]\n",
    "lst=int(input(\"enter the list size:\"))\n",
    "while(len(list)<=lst):\n",
    "    lst1=int(input(\"enter list element:\"))\n",
    "    list.append(lst1)\n",
    "print(\"element of list\",list)\n",
    "min=list[0]\n",
    "for i in list:\n",
    "    if(min>i):\n",
    "        min=i\n",
    "print(\"smallest element is:\",min)        \n"
   ]
  },
  {
   "cell_type": "code",
   "execution_count": null,
   "metadata": {},
   "outputs": [],
   "source": [
    "# Q8 :Reverse the following list using for loop and range[do not use reverse or reversed like functions]\n",
    "list1=[10,20,30,4,50]"
   ]
  },
  {
   "cell_type": "code",
   "execution_count": 36,
   "metadata": {},
   "outputs": [
    {
     "name": "stdout",
     "output_type": "stream",
     "text": [
      "50\n",
      "4\n",
      "30\n",
      "20\n",
      "10\n"
     ]
    }
   ],
   "source": [
    "list1=[10,20,30,4,50]\n",
    "n=len(list1)\n",
    "for i in range(n-1,-1,-1):\n",
    "    print(list1[i])"
   ]
  },
  {
   "cell_type": "code",
   "execution_count": null,
   "metadata": {},
   "outputs": [],
   "source": []
  }
 ],
 "metadata": {
  "kernelspec": {
   "display_name": "Python 3",
   "language": "python",
   "name": "python3"
  },
  "language_info": {
   "codemirror_mode": {
    "name": "ipython",
    "version": 3
   },
   "file_extension": ".py",
   "mimetype": "text/x-python",
   "name": "python",
   "nbconvert_exporter": "python",
   "pygments_lexer": "ipython3",
   "version": "3.8.3"
  }
 },
 "nbformat": 4,
 "nbformat_minor": 4
}
