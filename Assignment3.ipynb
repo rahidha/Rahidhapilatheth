{
 "cells": [
  {
   "cell_type": "markdown",
   "metadata": {},
   "source": [
    "Q1: Write a function calculation() such that it can accept two\n",
    "variables as arguments and calculate the addition and\n",
    "subtraction of it. And also it must return both addition and\n",
    "subtraction in a single return call"
   ]
  },
  {
   "cell_type": "code",
   "execution_count": 9,
   "metadata": {},
   "outputs": [
    {
     "name": "stdout",
     "output_type": "stream",
     "text": [
      "enter num1: 5\n",
      "enter num2: 9\n",
      "Addition    :   5 + 9 = 14\n",
      "substraction:   5 - 9 = -4\n"
     ]
    }
   ],
   "source": [
    "def calculation(num1,num2):\n",
    "    add=num1+num2\n",
    "    sub=num1-num2\n",
    "    return add,sub\n",
    "num1=int(input(\"enter num1: \"))\n",
    "num2=int(input(\"enter num2: \"))\n",
    "addition,substraction=calculation(num1,num2)\n",
    "\n",
    "print(f'Addition    :   {num1} + {num2} = {addition}')\n",
    "print(f'substraction:   {num1} - {num2} = {substraction}')"
   ]
  },
  {
   "cell_type": "markdown",
   "metadata": {},
   "source": [
    "Q2: Create a function showEmployee() in such a way that it\n",
    "should accept employee name, and it’s salary and display both,\n",
    "and if the salary is missing in function call it should show it as\n",
    "9000"
   ]
  },
  {
   "cell_type": "code",
   "execution_count": 8,
   "metadata": {},
   "outputs": [
    {
     "name": "stdout",
     "output_type": "stream",
     "text": [
      "Employee Name is :  Rahul\n",
      "Salary of Rahul is 50000\n",
      "\n",
      "Employee Name is :  Sarath\n",
      "Salary of Sarath is 9000\n",
      "\n"
     ]
    }
   ],
   "source": [
    "def showEmployee(empName,salary=9000):\n",
    "    print(\"Employee Name is : \",empName)\n",
    "    print(f'Salary of {empName} is {salary}')\n",
    "    print(\"\")\n",
    "    \n",
    "showEmployee(\"Rahul\",50000) \n",
    "showEmployee(\"Sarath\")"
   ]
  },
  {
   "cell_type": "markdown",
   "metadata": {},
   "source": [
    "Q3: Write a function called multipleLetterCount. This function\n",
    "takes in one parameter (a string) and returns a dictionary with the\n",
    "keys being the letters and the value being the count of the letter.\n",
    " \n",
    " #Example output:\n",
    " #multipleLetterCount('awesome')\n",
    " #{'a': 1, 'e': 2, 'm': 1, 'o': 1, 's': 1, 'w': 1}"
   ]
  },
  {
   "cell_type": "code",
   "execution_count": 10,
   "metadata": {},
   "outputs": [
    {
     "name": "stdout",
     "output_type": "stream",
     "text": [
      "{'a': 1, 'w': 1, 'e': 2, 's': 1, 'o': 1, 'm': 1}\n"
     ]
    }
   ],
   "source": [
    "def multipleLetterCount(mystr):\n",
    "    dict1={}\n",
    "    for element in mystr:\n",
    "        keys=dict1.keys()\n",
    "        if element in keys:\n",
    "            dict1[element]=dict1[element]+1\n",
    "        else:\n",
    "            dict1[element]=1\n",
    "    return dict1\n",
    "res=multipleLetterCount('awesome')\n",
    "print(dict(res))"
   ]
  },
  {
   "cell_type": "code",
   "execution_count": null,
   "metadata": {},
   "outputs": [],
   "source": []
  }
 ],
 "metadata": {
  "kernelspec": {
   "display_name": "Python 3",
   "language": "python",
   "name": "python3"
  },
  "language_info": {
   "codemirror_mode": {
    "name": "ipython",
    "version": 3
   },
   "file_extension": ".py",
   "mimetype": "text/x-python",
   "name": "python",
   "nbconvert_exporter": "python",
   "pygments_lexer": "ipython3",
   "version": "3.8.3"
  }
 },
 "nbformat": 4,
 "nbformat_minor": 4
}
